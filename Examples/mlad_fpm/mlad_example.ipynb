{
 "cells": [
  {
   "cell_type": "raw",
   "id": "def43a48",
   "metadata": {},
   "source": [
    "---\n",
    "title: Example of fitting an stpm3 model using mlad\n",
    "author: Paul Lambert\n",
    "format: html\n",
    "css: styles.css\n",
    "editor: visual\n",
    "execute:\n",
    "  keep-ipynb: true\n",
    "---"
   ]
  },
  {
   "cell_type": "markdown",
   "id": "61ea22fe",
   "metadata": {},
   "source": [
    "## Loading Data\n",
    "\n",
    "This loads the Rotterdam data from my website.\n"
   ]
  },
  {
   "cell_type": "code",
   "execution_count": 1,
   "id": "aabaef5f",
   "metadata": {},
   "outputs": [
    {
     "name": "stdout",
     "output_type": "stream",
     "text": [
      "(Rotterdam breast cancer data (augmented with cause of death))\n"
     ]
    }
   ],
   "source": [
    ". use https://www.pclambert.net/data/rott3, clear"
   ]
  },
  {
   "cell_type": "markdown",
   "id": "fb5a9f3f",
   "metadata": {},
   "source": [
    "## Fitting an `stpm3` model\n",
    "\n",
    "We can now fit an flexible parametric model using `stpm3`.\n",
    "I will include the variabe `hormon` as a factor variable \n",
    "and `age` as a natural cubic spline.\n"
   ]
  },
  {
   "cell_type": "code",
   "execution_count": 2,
   "id": "8c16775c",
   "metadata": {},
   "outputs": [
    {
     "name": "stdout",
     "output_type": "stream",
     "text": [
      "\n",
      ". stpm3 i.hormon @ns(age,df(3)), scale(lncumhazard) df(4) initmod(exp) nolog\n"
     ]
    },
    {
     "name": "stdout",
     "output_type": "stream",
     "text": [
      "\n",
      "                                                        Number of obs =  2,982\n",
      "                                                        Wald chi2(4)  = 132.42\n",
      "Log likelihood = -2884.0429                             Prob > chi2   = 0.0000\n",
      "\n",
      "------------------------------------------------------------------------------\n",
      "             | Coefficient  Std. err.      z    P>|z|     [95% conf. interval]\n",
      "-------------+----------------------------------------------------------------\n",
      "xb           |\n",
      "      hormon |\n",
      "        yes  |   .3731572   .0885452     4.21   0.000     .1996119    .5467026\n",
      " _ns_f1_age1 |  -3.142327   .8938032    -3.52   0.000    -4.894149   -1.390505\n",
      " _ns_f1_age2 |  -.9788548   .3796951    -2.58   0.010    -1.723043   -.2346661\n",
      " _ns_f1_age3 |  -2.199723   .3953551    -5.56   0.000    -2.974604   -1.424841\n",
      "-------------+----------------------------------------------------------------\n",
      "time         |\n",
      "        _ns1 |  -25.52175   1.864219   -13.69   0.000    -29.17555   -21.86795\n",
      "        _ns2 |   8.048509   .9963344     8.08   0.000     6.095729    10.00129\n",
      "        _ns3 |  -1.016756   .0438515   -23.19   0.000    -1.102703   -.9308083\n",
      "        _ns4 |  -.6569238   .0476898   -13.77   0.000     -.750394   -.5634536\n",
      "       _cons |   .8747299   .1904223     4.59   0.000     .5015089    1.247951\n",
      "------------------------------------------------------------------------------\n",
      "Extended functions\n",
      " (1) @ns(age, df(3))\n",
      "\n",
      ". estimates store stpm3\n",
      "\n",
      ". \n"
     ]
    }
   ],
   "source": [
    "*| classes: styled-output\n",
    "*|echo: false\n",
    "%%echo\n",
    "stpm3 i.hormon @ns(age,df(3)), scale(lncumhazard) df(4) initmod(exp) nolog\n",
    "estimates store stpm3"
   ]
  },
  {
   "cell_type": "markdown",
   "id": "6422f463",
   "metadata": {},
   "source": [
    "# Running `mlad'\n",
    "\n",
    "We need some starting values fo the parameters\n",
    "\n",
    "## Starting values\n",
    "\n",
    "This is a simple way to get initial valuesb by fitting an exponential model,\n",
    "predicting the log cumulative hazard anduse least squares.\n"
   ]
  },
  {
   "cell_type": "code",
   "execution_count": 3,
   "id": "0749bdc4",
   "metadata": {},
   "outputs": [
    {
     "name": "stdout",
     "output_type": "stream",
     "text": [
      "\n",
      ". streg i.hormon _ns_f1_age1 _ns_f1_age2 _ns_f1_age3, dist(exp)\n",
      "\n",
      "         Failure _d: osi==1\n",
      "   Analysis time _t: os/12\n",
      "  Exit on or before: time 10*12\n",
      "        ID variable: pid\n",
      "\n",
      "Iteration 0:   log likelihood = -3022.1979  \n",
      "Iteration 1:   log likelihood = -2977.5856  \n",
      "Iteration 2:   log likelihood =  -2967.277  \n",
      "Iteration 3:   log likelihood = -2967.2473  \n",
      "Iteration 4:   log likelihood = -2967.2473  \n",
      "\n",
      "Exponential PH regression\n",
      "\n",
      "No. of subjects =       2,982                           Number of obs =  2,982\n",
      "No. of failures =       1,171\n",
      "Time at risk    = 20,002.4244\n",
      "                                                        LR chi2(4)    = 109.90\n",
      "Log likelihood = -2967.2473                             Prob > chi2   = 0.0000\n",
      "\n",
      "------------------------------------------------------------------------------\n",
      "          _t | Haz. ratio   Std. err.      z    P>|z|     [95% conf. interval]\n",
      "-------------+----------------------------------------------------------------\n",
      "      hormon |\n",
      "        yes  |   1.424495   .1256015     4.01   0.000     1.198417    1.693221\n",
      " _ns_f1_age1 |   .0509612   .0453617    -3.34   0.001     .0089036     .291684\n",
      " _ns_f1_age2 |   .3769882   .1429753    -2.57   0.010     .1792684    .7927781\n",
      " _ns_f1_age3 |   .1230702   .0483402    -5.33   0.000     .0569919    .2657618\n",
      "       _cons |   .2219702   .0417761    -8.00   0.000     .1534947    .3209933\n",
      "------------------------------------------------------------------------------\n",
      "Note: _cons estimates baseline hazard.\n",
      "\n",
      ". predict surv, surv\n"
     ]
    },
    {
     "name": "stdout",
     "output_type": "stream",
     "text": [
      "\n",
      ". gen lncumH = ln(-ln(surv))\n",
      "\n",
      ". regress lncumH i.hormon _ns_f1_age1 _ns_f1_age2 _ns_f1_age3 _ns1 _ns2 _ns3 _n\n",
      "> s4 if _d\n",
      "\n",
      "      Source |       SS           df       MS      Number of obs   =     1,171\n",
      "-------------+----------------------------------   F(8, 1162)      >  99999.00\n",
      "       Model |  639.715523         8  79.9644404   Prob > F        =    0.0000\n",
      "    Residual |  2.9834e-11     1,162  2.5675e-14   R-squared       =    1.0000\n",
      "-------------+----------------------------------   Adj R-squared   =    1.0000\n",
      "       Total |  639.715523     1,170  .546765404   Root MSE        =    1.6e-07\n",
      "\n",
      "------------------------------------------------------------------------------\n",
      "      lncumH | Coefficient  Std. err.      t    P>|t|     [95% conf. interval]\n",
      "-------------+----------------------------------------------------------------\n",
      "      hormon |\n",
      "        yes  |   .3538171   1.41e-08  2.5e+07   0.000     .3538171    .3538172\n",
      " _ns_f1_age1 |  -2.976691   1.40e-07 -2.1e+07   0.000    -2.976691    -2.97669\n",
      " _ns_f1_age2 |  -.9755414   6.06e-08 -1.6e+07   0.000    -.9755415   -.9755413\n",
      " _ns_f1_age3 |  -2.095001   6.14e-08 -3.4e+07   0.000    -2.095001      -2.095\n",
      "        _ns1 |  -13.18746   2.23e-07 -5.9e+07   0.000    -13.18746   -13.18746\n",
      "        _ns2 |   3.111902   1.39e-07  2.2e+07   0.000     3.111902    3.111902\n",
      "        _ns3 |  -.9738248   2.18e-08 -4.5e+07   0.000    -.9738249   -.9738248\n",
      "        _ns4 |  -.6637326   4.45e-08 -1.5e+07   0.000    -.6637327   -.6637325\n",
      "       _cons |   .7966883   3.46e-08  2.3e+07   0.000     .7966882    .7966883\n",
      "------------------------------------------------------------------------------\n",
      "\n",
      ". \n",
      ". // Store inital values\n",
      ". matrix b_init = e(b)\n",
      "\n",
      ". \n"
     ]
    }
   ],
   "source": [
    "*| classes: styled-output\n",
    "*| code-fold: true\n",
    "*| code-summary: \"Show the code\"\n",
    "%%echo \n",
    "streg i.hormon _ns_f1_age1 _ns_f1_age2 _ns_f1_age3, dist(exp)\n",
    "predict surv, surv\n",
    "gen lncumH = ln(-ln(surv))\n",
    "regress lncumH i.hormon _ns_f1_age1 _ns_f1_age2 _ns_f1_age3 _ns1 _ns2 _ns3 _ns4 if _d\n",
    "\n",
    "// Store inital values\n",
    "matrix b_init = e(b)"
   ]
  }
 ],
 "metadata": {
  "kernelspec": {
   "display_name": "Stata (nbstata)",
   "language": "stata",
   "name": "nbstata"
  }
 },
 "nbformat": 4,
 "nbformat_minor": 5
}
